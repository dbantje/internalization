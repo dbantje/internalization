{
 "cells": [
  {
   "cell_type": "code",
   "execution_count": 2,
   "metadata": {},
   "outputs": [],
   "source": [
    "import brightway2 as bw\n",
    "import numpy as np\n",
    "import matplotlib.pyplot as plt"
   ]
  },
  {
   "cell_type": "code",
   "execution_count": 3,
   "metadata": {},
   "outputs": [],
   "source": [
    "bw.projects.set_current(\"test\")\n",
    "db = bw.Database(\"ecoinvent_remind_default_2030\")\n",
    "\n",
    "methods =  [\n",
    "    ('ReCiPe Midpoint (H) V1.13', 'agricultural land occupation', 'ALOP'),\n",
    "    ('ReCiPe Midpoint (H) V1.13', 'climate change', 'GWP100'),\n",
    "    ('ReCiPe Midpoint (H) V1.13', 'fossil depletion', 'FDP'),\n",
    "    ('ReCiPe Midpoint (H) V1.13', 'freshwater ecotoxicity', 'FETPinf'),\n",
    "    ('ReCiPe Midpoint (H) V1.13', 'freshwater eutrophication', 'FEP'),\n",
    "    ('ReCiPe Midpoint (H) V1.13', 'human toxicity', 'HTPinf'),\n",
    "    ('ReCiPe Midpoint (H) V1.13', 'ionising radiation', 'IRP_HE'),\n",
    "    ('ReCiPe Midpoint (H) V1.13', 'marine ecotoxicity', 'METPinf'),\n",
    "    ('ReCiPe Midpoint (H) V1.13', 'marine eutrophication', 'MEP'),\n",
    "    ('ReCiPe Midpoint (H) V1.13', 'metal depletion', 'MDP'),\n",
    "    ('ReCiPe Midpoint (H) V1.13', 'natural land transformation', 'NLTP'),\n",
    "    ('ReCiPe Midpoint (H) V1.13', 'ozone depletion', 'ODPinf'),\n",
    "    ('ReCiPe Midpoint (H) V1.13', 'particulate matter formation', 'PMFP'),\n",
    "    ('ReCiPe Midpoint (H) V1.13', 'photochemical oxidant formation', 'POFP'),\n",
    "    ('ReCiPe Midpoint (H) V1.13', 'terrestrial acidification', 'TAP100'),\n",
    "    ('ReCiPe Midpoint (H) V1.13', 'terrestrial ecotoxicity', 'TETPinf'),\n",
    "    ('ReCiPe Midpoint (H) V1.13', 'urban land occupation', 'ULOP'),\n",
    "    ('ReCiPe Midpoint (H) V1.13', 'water depletion', 'WDP')\n",
    "]"
   ]
  },
  {
   "attachments": {},
   "cell_type": "markdown",
   "metadata": {},
   "source": [
    "Find activities"
   ]
  },
  {
   "cell_type": "code",
   "execution_count": 4,
   "metadata": {},
   "outputs": [],
   "source": [
    "car = None\n",
    "steel = None\n",
    "for act in db:\n",
    "    if act[\"name\"] == \"transport, passenger car, medium size, diesel, EURO 4\" and act[\"location\"] == \"RER\":\n",
    "        car = act\n",
    "    if act[\"name\"] == \"market for reinforcing steel\" and act[\"location\"] == \"GLO\":\n",
    "        steel = act\n"
   ]
  },
  {
   "cell_type": "code",
   "execution_count": 5,
   "metadata": {},
   "outputs": [],
   "source": [
    "demand = {car: 1}"
   ]
  },
  {
   "attachments": {},
   "cell_type": "markdown",
   "metadata": {},
   "source": [
    "First, let's see the full impacts:"
   ]
  },
  {
   "cell_type": "code",
   "execution_count": 6,
   "metadata": {},
   "outputs": [
    {
     "name": "stdout",
     "output_type": "stream",
     "text": [
      "agricultural land occupation: 0.026356\n",
      "climate change: 0.277589\n",
      "fossil depletion: 0.096165\n",
      "freshwater ecotoxicity: 0.018905\n",
      "freshwater eutrophication: 0.000035\n",
      "human toxicity: 0.078780\n",
      "ionising radiation: 0.023851\n",
      "marine ecotoxicity: 0.016445\n",
      "marine eutrophication: 0.000149\n",
      "metal depletion: 0.025927\n",
      "natural land transformation: -0.000023\n",
      "ozone depletion: 0.000000\n",
      "particulate matter formation: 0.000454\n",
      "photochemical oxidant formation: 0.001174\n",
      "terrestrial acidification: 0.000959\n",
      "terrestrial ecotoxicity: 0.000457\n",
      "urban land occupation: 0.008957\n",
      "water depletion: 0.002201\n"
     ]
    }
   ],
   "source": [
    "lca = bw.LCA(demand=demand)\n",
    "lca.lci()\n",
    "impacts_full = []\n",
    "for m in methods:\n",
    "    lca.switch_method(m)\n",
    "    lca.lcia()\n",
    "    impacts_full.append(lca.score)\n",
    "    print(\"{}: {:f}\".format(m[1], lca.score))"
   ]
  },
  {
   "cell_type": "code",
   "execution_count": 7,
   "metadata": {},
   "outputs": [
    {
     "data": {
      "text/plain": [
       "0.007621901129510877"
      ]
     },
     "execution_count": 7,
     "metadata": {},
     "output_type": "execute_result"
    }
   ],
   "source": [
    "lca.supply_array[lca.product_dict[steel.key]]"
   ]
  },
  {
   "attachments": {},
   "cell_type": "markdown",
   "metadata": {},
   "source": [
    "## Approach A"
   ]
  },
  {
   "cell_type": "code",
   "execution_count": 8,
   "metadata": {},
   "outputs": [],
   "source": [
    "sbar = lca.supply_array\n",
    "sbar[lca.product_dict[steel.key]] = 0"
   ]
  },
  {
   "cell_type": "code",
   "execution_count": 9,
   "metadata": {},
   "outputs": [],
   "source": [
    "fbar = lca.technosphere_matrix * sbar"
   ]
  },
  {
   "cell_type": "code",
   "execution_count": 10,
   "metadata": {},
   "outputs": [
    {
     "data": {
      "text/plain": [
       "('ecoinvent_remind_default_2030', '33754bdc65e8f50fa85abf6a65b61f5e')"
      ]
     },
     "execution_count": 10,
     "metadata": {},
     "output_type": "execute_result"
    }
   ],
   "source": [
    "steel.key"
   ]
  },
  {
   "cell_type": "code",
   "execution_count": 11,
   "metadata": {},
   "outputs": [],
   "source": [
    "demandA = {}\n",
    "for k, idx in lca.product_dict.items():\n",
    "    demandA[k] = fbar[idx]"
   ]
  },
  {
   "cell_type": "code",
   "execution_count": 12,
   "metadata": {},
   "outputs": [
    {
     "name": "stdout",
     "output_type": "stream",
     "text": [
      "agricultural land occupation: 0.026356\n",
      "climate change: 0.277589\n",
      "fossil depletion: 0.096165\n",
      "freshwater ecotoxicity: 0.018905\n",
      "freshwater eutrophication: 0.000035\n",
      "human toxicity: 0.078780\n",
      "ionising radiation: 0.023851\n",
      "marine ecotoxicity: 0.016445\n",
      "marine eutrophication: 0.000149\n",
      "metal depletion: 0.025927\n",
      "natural land transformation: -0.000023\n",
      "ozone depletion: 0.000000\n",
      "particulate matter formation: 0.000454\n",
      "photochemical oxidant formation: 0.001174\n",
      "terrestrial acidification: 0.000959\n",
      "terrestrial ecotoxicity: 0.000457\n",
      "urban land occupation: 0.008957\n",
      "water depletion: 0.002201\n"
     ]
    }
   ],
   "source": [
    "impactsA  = []\n",
    "lcaA = bw.LCA(demand=demandA)\n",
    "lcaA.lci()\n",
    "\n",
    "for m in methods:\n",
    "    lcaA.switch_method(m)\n",
    "    lcaA.lcia()\n",
    "    impactsA.append(lcaA.score)\n",
    "    print(\"{}: {:f}\".format(m[1], lcaA.score))"
   ]
  },
  {
   "attachments": {},
   "cell_type": "markdown",
   "metadata": {},
   "source": [
    "## Approach B"
   ]
  },
  {
   "cell_type": "code",
   "execution_count": 13,
   "metadata": {},
   "outputs": [],
   "source": [
    "lca.lci(demand)"
   ]
  },
  {
   "cell_type": "code",
   "execution_count": 14,
   "metadata": {},
   "outputs": [],
   "source": [
    "steel_demand = lca.supply_array[lca.product_dict[steel.key]]\n",
    "demandB = {\n",
    "    car: 1,\n",
    "    steel: -steel_demand\n",
    "}"
   ]
  },
  {
   "cell_type": "code",
   "execution_count": 15,
   "metadata": {},
   "outputs": [
    {
     "name": "stdout",
     "output_type": "stream",
     "text": [
      "agricultural land occupation: 0.025947\n",
      "climate change: 0.264717\n",
      "fossil depletion: 0.092704\n",
      "freshwater ecotoxicity: 0.018335\n",
      "freshwater eutrophication: 0.000029\n",
      "human toxicity: 0.072726\n",
      "ionising radiation: 0.022959\n",
      "marine ecotoxicity: 0.015878\n",
      "marine eutrophication: 0.000145\n",
      "metal depletion: 0.018129\n",
      "natural land transformation: -0.000022\n",
      "ozone depletion: 0.000000\n",
      "particulate matter formation: 0.000417\n",
      "photochemical oxidant formation: 0.001109\n",
      "terrestrial acidification: 0.000921\n",
      "terrestrial ecotoxicity: 0.000453\n",
      "urban land occupation: 0.008689\n",
      "water depletion: 0.002042\n"
     ]
    }
   ],
   "source": [
    "impactsB  = []\n",
    "lcaB = bw.LCA(demand=demandB)\n",
    "lcaB.lci()\n",
    "\n",
    "for m in methods:\n",
    "    lcaB.switch_method(m)\n",
    "    lcaB.lcia()\n",
    "    impactsB.append(lcaB.score)\n",
    "    print(\"{}: {:f}\".format(m[1], lcaB.score))"
   ]
  },
  {
   "cell_type": "code",
   "execution_count": 16,
   "metadata": {},
   "outputs": [
    {
     "data": {
      "text/plain": [
       "<2142x31544 sparse matrix of type '<class 'numpy.float64'>'\n",
       "\twith 296053 stored elements in Compressed Sparse Row format>"
      ]
     },
     "execution_count": 16,
     "metadata": {},
     "output_type": "execute_result"
    }
   ],
   "source": [
    "lca.inventory"
   ]
  },
  {
   "attachments": {},
   "cell_type": "markdown",
   "metadata": {},
   "source": [
    "## Approach C"
   ]
  },
  {
   "cell_type": "code",
   "execution_count": 61,
   "metadata": {},
   "outputs": [],
   "source": [
    "lcaC = bw.LCA(demand=demand)\n",
    "lcaC.lci()"
   ]
  },
  {
   "cell_type": "code",
   "execution_count": 62,
   "metadata": {},
   "outputs": [],
   "source": [
    "i = lcaC.product_dict[car.key]\n",
    "j = lcaC.product_dict[steel.key]\n",
    "lcaC.technosphere_matrix[i,j] = 0"
   ]
  },
  {
   "attachments": {},
   "cell_type": "markdown",
   "metadata": {},
   "source": [
    "Redo LCI (solving the linear system), check that technosphere change is not overwrittten."
   ]
  },
  {
   "cell_type": "code",
   "execution_count": 63,
   "metadata": {},
   "outputs": [],
   "source": [
    "lcaC.lci_calculation()"
   ]
  },
  {
   "cell_type": "code",
   "execution_count": 64,
   "metadata": {},
   "outputs": [
    {
     "name": "stdout",
     "output_type": "stream",
     "text": [
      "agricultural land occupation: 0.026356\n",
      "climate change: 0.277589\n",
      "fossil depletion: 0.096165\n",
      "freshwater ecotoxicity: 0.018905\n",
      "freshwater eutrophication: 0.000035\n",
      "human toxicity: 0.078780\n",
      "ionising radiation: 0.023851\n",
      "marine ecotoxicity: 0.016445\n",
      "marine eutrophication: 0.000149\n",
      "metal depletion: 0.025927\n",
      "natural land transformation: -0.000023\n",
      "ozone depletion: 0.000000\n",
      "particulate matter formation: 0.000454\n",
      "photochemical oxidant formation: 0.001174\n",
      "terrestrial acidification: 0.000959\n",
      "terrestrial ecotoxicity: 0.000457\n",
      "urban land occupation: 0.008957\n",
      "water depletion: 0.002201\n"
     ]
    }
   ],
   "source": [
    "impactsC  = []\n",
    "\n",
    "for m in methods:\n",
    "    lcaC.switch_method(m)\n",
    "    lcaC.lcia()\n",
    "    impactsC.append(lcaC.score)\n",
    "    print(\"{}: {:f}\".format(m[1], lcaC.score))"
   ]
  },
  {
   "attachments": {},
   "cell_type": "markdown",
   "metadata": {},
   "source": [
    "## Compare results"
   ]
  },
  {
   "cell_type": "code",
   "execution_count": 65,
   "metadata": {},
   "outputs": [],
   "source": [
    "import pandas as pd"
   ]
  },
  {
   "cell_type": "code",
   "execution_count": 66,
   "metadata": {},
   "outputs": [
    {
     "data": {
      "text/html": [
       "<div>\n",
       "<style scoped>\n",
       "    .dataframe tbody tr th:only-of-type {\n",
       "        vertical-align: middle;\n",
       "    }\n",
       "\n",
       "    .dataframe tbody tr th {\n",
       "        vertical-align: top;\n",
       "    }\n",
       "\n",
       "    .dataframe thead th {\n",
       "        text-align: right;\n",
       "    }\n",
       "</style>\n",
       "<table border=\"1\" class=\"dataframe\">\n",
       "  <thead>\n",
       "    <tr style=\"text-align: right;\">\n",
       "      <th></th>\n",
       "      <th>full</th>\n",
       "      <th>approach A</th>\n",
       "      <th>approach B</th>\n",
       "      <th>approach C</th>\n",
       "    </tr>\n",
       "  </thead>\n",
       "  <tbody>\n",
       "    <tr>\n",
       "      <th>agricultural land occupation</th>\n",
       "      <td>2.635569e-02</td>\n",
       "      <td>2.635569e-02</td>\n",
       "      <td>2.594711e-02</td>\n",
       "      <td>2.635569e-02</td>\n",
       "    </tr>\n",
       "    <tr>\n",
       "      <th>climate change</th>\n",
       "      <td>2.775889e-01</td>\n",
       "      <td>2.775889e-01</td>\n",
       "      <td>2.647168e-01</td>\n",
       "      <td>2.775889e-01</td>\n",
       "    </tr>\n",
       "    <tr>\n",
       "      <th>fossil depletion</th>\n",
       "      <td>9.616501e-02</td>\n",
       "      <td>9.616501e-02</td>\n",
       "      <td>9.270444e-02</td>\n",
       "      <td>9.616501e-02</td>\n",
       "    </tr>\n",
       "    <tr>\n",
       "      <th>freshwater ecotoxicity</th>\n",
       "      <td>1.890489e-02</td>\n",
       "      <td>1.890489e-02</td>\n",
       "      <td>1.833517e-02</td>\n",
       "      <td>1.890489e-02</td>\n",
       "    </tr>\n",
       "    <tr>\n",
       "      <th>freshwater eutrophication</th>\n",
       "      <td>3.496055e-05</td>\n",
       "      <td>3.496055e-05</td>\n",
       "      <td>2.901637e-05</td>\n",
       "      <td>3.496055e-05</td>\n",
       "    </tr>\n",
       "    <tr>\n",
       "      <th>human toxicity</th>\n",
       "      <td>7.877962e-02</td>\n",
       "      <td>7.877962e-02</td>\n",
       "      <td>7.272617e-02</td>\n",
       "      <td>7.877962e-02</td>\n",
       "    </tr>\n",
       "    <tr>\n",
       "      <th>ionising radiation</th>\n",
       "      <td>2.385098e-02</td>\n",
       "      <td>2.385098e-02</td>\n",
       "      <td>2.295914e-02</td>\n",
       "      <td>2.385098e-02</td>\n",
       "    </tr>\n",
       "    <tr>\n",
       "      <th>marine ecotoxicity</th>\n",
       "      <td>1.644465e-02</td>\n",
       "      <td>1.644465e-02</td>\n",
       "      <td>1.587831e-02</td>\n",
       "      <td>1.644465e-02</td>\n",
       "    </tr>\n",
       "    <tr>\n",
       "      <th>marine eutrophication</th>\n",
       "      <td>1.485405e-04</td>\n",
       "      <td>1.485405e-04</td>\n",
       "      <td>1.451630e-04</td>\n",
       "      <td>1.485405e-04</td>\n",
       "    </tr>\n",
       "    <tr>\n",
       "      <th>metal depletion</th>\n",
       "      <td>2.592706e-02</td>\n",
       "      <td>2.592706e-02</td>\n",
       "      <td>1.812883e-02</td>\n",
       "      <td>2.592706e-02</td>\n",
       "    </tr>\n",
       "    <tr>\n",
       "      <th>natural land transformation</th>\n",
       "      <td>-2.348675e-05</td>\n",
       "      <td>-2.348675e-05</td>\n",
       "      <td>-2.154457e-05</td>\n",
       "      <td>-2.348675e-05</td>\n",
       "    </tr>\n",
       "    <tr>\n",
       "      <th>ozone depletion</th>\n",
       "      <td>4.335034e-08</td>\n",
       "      <td>4.335034e-08</td>\n",
       "      <td>4.285225e-08</td>\n",
       "      <td>4.335034e-08</td>\n",
       "    </tr>\n",
       "    <tr>\n",
       "      <th>particulate matter formation</th>\n",
       "      <td>4.543144e-04</td>\n",
       "      <td>4.543144e-04</td>\n",
       "      <td>4.172340e-04</td>\n",
       "      <td>4.543144e-04</td>\n",
       "    </tr>\n",
       "    <tr>\n",
       "      <th>photochemical oxidant formation</th>\n",
       "      <td>1.173786e-03</td>\n",
       "      <td>1.173786e-03</td>\n",
       "      <td>1.108684e-03</td>\n",
       "      <td>1.173786e-03</td>\n",
       "    </tr>\n",
       "    <tr>\n",
       "      <th>terrestrial acidification</th>\n",
       "      <td>9.586874e-04</td>\n",
       "      <td>9.586874e-04</td>\n",
       "      <td>9.208603e-04</td>\n",
       "      <td>9.586874e-04</td>\n",
       "    </tr>\n",
       "    <tr>\n",
       "      <th>terrestrial ecotoxicity</th>\n",
       "      <td>4.568736e-04</td>\n",
       "      <td>4.568736e-04</td>\n",
       "      <td>4.529205e-04</td>\n",
       "      <td>4.568736e-04</td>\n",
       "    </tr>\n",
       "    <tr>\n",
       "      <th>urban land occupation</th>\n",
       "      <td>8.957213e-03</td>\n",
       "      <td>8.957213e-03</td>\n",
       "      <td>8.689063e-03</td>\n",
       "      <td>8.957213e-03</td>\n",
       "    </tr>\n",
       "    <tr>\n",
       "      <th>water depletion</th>\n",
       "      <td>2.201038e-03</td>\n",
       "      <td>2.201038e-03</td>\n",
       "      <td>2.041501e-03</td>\n",
       "      <td>2.201038e-03</td>\n",
       "    </tr>\n",
       "  </tbody>\n",
       "</table>\n",
       "</div>"
      ],
      "text/plain": [
       "                                         full    approach A    approach B  \\\n",
       "agricultural land occupation     2.635569e-02  2.635569e-02  2.594711e-02   \n",
       "climate change                   2.775889e-01  2.775889e-01  2.647168e-01   \n",
       "fossil depletion                 9.616501e-02  9.616501e-02  9.270444e-02   \n",
       "freshwater ecotoxicity           1.890489e-02  1.890489e-02  1.833517e-02   \n",
       "freshwater eutrophication        3.496055e-05  3.496055e-05  2.901637e-05   \n",
       "human toxicity                   7.877962e-02  7.877962e-02  7.272617e-02   \n",
       "ionising radiation               2.385098e-02  2.385098e-02  2.295914e-02   \n",
       "marine ecotoxicity               1.644465e-02  1.644465e-02  1.587831e-02   \n",
       "marine eutrophication            1.485405e-04  1.485405e-04  1.451630e-04   \n",
       "metal depletion                  2.592706e-02  2.592706e-02  1.812883e-02   \n",
       "natural land transformation     -2.348675e-05 -2.348675e-05 -2.154457e-05   \n",
       "ozone depletion                  4.335034e-08  4.335034e-08  4.285225e-08   \n",
       "particulate matter formation     4.543144e-04  4.543144e-04  4.172340e-04   \n",
       "photochemical oxidant formation  1.173786e-03  1.173786e-03  1.108684e-03   \n",
       "terrestrial acidification        9.586874e-04  9.586874e-04  9.208603e-04   \n",
       "terrestrial ecotoxicity          4.568736e-04  4.568736e-04  4.529205e-04   \n",
       "urban land occupation            8.957213e-03  8.957213e-03  8.689063e-03   \n",
       "water depletion                  2.201038e-03  2.201038e-03  2.041501e-03   \n",
       "\n",
       "                                   approach C  \n",
       "agricultural land occupation     2.635569e-02  \n",
       "climate change                   2.775889e-01  \n",
       "fossil depletion                 9.616501e-02  \n",
       "freshwater ecotoxicity           1.890489e-02  \n",
       "freshwater eutrophication        3.496055e-05  \n",
       "human toxicity                   7.877962e-02  \n",
       "ionising radiation               2.385098e-02  \n",
       "marine ecotoxicity               1.644465e-02  \n",
       "marine eutrophication            1.485405e-04  \n",
       "metal depletion                  2.592706e-02  \n",
       "natural land transformation     -2.348675e-05  \n",
       "ozone depletion                  4.335034e-08  \n",
       "particulate matter formation     4.543144e-04  \n",
       "photochemical oxidant formation  1.173786e-03  \n",
       "terrestrial acidification        9.586874e-04  \n",
       "terrestrial ecotoxicity          4.568736e-04  \n",
       "urban land occupation            8.957213e-03  \n",
       "water depletion                  2.201038e-03  "
      ]
     },
     "execution_count": 66,
     "metadata": {},
     "output_type": "execute_result"
    }
   ],
   "source": [
    "data_array = np.array([impacts_full, impactsA, impactsB, impactsC]).T\n",
    "df = pd.DataFrame(\n",
    "    data=data_array, \n",
    "    index=[m[1] for m in methods], \n",
    "    columns=[\"full\", \"approach A\", \"approach B\", \"approach C\"]\n",
    "    )\n",
    "df"
   ]
  },
  {
   "cell_type": "code",
   "execution_count": 67,
   "metadata": {},
   "outputs": [
    {
     "data": {
      "text/html": [
       "<div>\n",
       "<style scoped>\n",
       "    .dataframe tbody tr th:only-of-type {\n",
       "        vertical-align: middle;\n",
       "    }\n",
       "\n",
       "    .dataframe tbody tr th {\n",
       "        vertical-align: top;\n",
       "    }\n",
       "\n",
       "    .dataframe thead th {\n",
       "        text-align: right;\n",
       "    }\n",
       "</style>\n",
       "<table border=\"1\" class=\"dataframe\">\n",
       "  <thead>\n",
       "    <tr style=\"text-align: right;\">\n",
       "      <th></th>\n",
       "      <th>full</th>\n",
       "      <th>approach A</th>\n",
       "      <th>approach B</th>\n",
       "      <th>approach C</th>\n",
       "      <th>rel diff A</th>\n",
       "      <th>rel diff B</th>\n",
       "      <th>rel diff C</th>\n",
       "    </tr>\n",
       "  </thead>\n",
       "  <tbody>\n",
       "    <tr>\n",
       "      <th>agricultural land occupation</th>\n",
       "      <td>2.635569e-02</td>\n",
       "      <td>2.635569e-02</td>\n",
       "      <td>2.594711e-02</td>\n",
       "      <td>2.635569e-02</td>\n",
       "      <td>3.949182e-16</td>\n",
       "      <td>-0.015502</td>\n",
       "      <td>0.000000e+00</td>\n",
       "    </tr>\n",
       "    <tr>\n",
       "      <th>climate change</th>\n",
       "      <td>2.775889e-01</td>\n",
       "      <td>2.775889e-01</td>\n",
       "      <td>2.647168e-01</td>\n",
       "      <td>2.775889e-01</td>\n",
       "      <td>0.000000e+00</td>\n",
       "      <td>-0.046371</td>\n",
       "      <td>0.000000e+00</td>\n",
       "    </tr>\n",
       "    <tr>\n",
       "      <th>fossil depletion</th>\n",
       "      <td>9.616501e-02</td>\n",
       "      <td>9.616501e-02</td>\n",
       "      <td>9.270444e-02</td>\n",
       "      <td>9.616501e-02</td>\n",
       "      <td>1.587435e-15</td>\n",
       "      <td>-0.035986</td>\n",
       "      <td>0.000000e+00</td>\n",
       "    </tr>\n",
       "    <tr>\n",
       "      <th>freshwater ecotoxicity</th>\n",
       "      <td>1.890489e-02</td>\n",
       "      <td>1.890489e-02</td>\n",
       "      <td>1.833517e-02</td>\n",
       "      <td>1.890489e-02</td>\n",
       "      <td>-3.670423e-16</td>\n",
       "      <td>-0.030136</td>\n",
       "      <td>0.000000e+00</td>\n",
       "    </tr>\n",
       "    <tr>\n",
       "      <th>freshwater eutrophication</th>\n",
       "      <td>3.496055e-05</td>\n",
       "      <td>3.496055e-05</td>\n",
       "      <td>2.901637e-05</td>\n",
       "      <td>3.496055e-05</td>\n",
       "      <td>-5.814780e-16</td>\n",
       "      <td>-0.170025</td>\n",
       "      <td>0.000000e+00</td>\n",
       "    </tr>\n",
       "    <tr>\n",
       "      <th>human toxicity</th>\n",
       "      <td>7.877962e-02</td>\n",
       "      <td>7.877962e-02</td>\n",
       "      <td>7.272617e-02</td>\n",
       "      <td>7.877962e-02</td>\n",
       "      <td>-1.761596e-16</td>\n",
       "      <td>-0.076840</td>\n",
       "      <td>0.000000e+00</td>\n",
       "    </tr>\n",
       "    <tr>\n",
       "      <th>ionising radiation</th>\n",
       "      <td>2.385098e-02</td>\n",
       "      <td>2.385098e-02</td>\n",
       "      <td>2.295914e-02</td>\n",
       "      <td>2.385098e-02</td>\n",
       "      <td>1.454635e-16</td>\n",
       "      <td>-0.037392</td>\n",
       "      <td>0.000000e+00</td>\n",
       "    </tr>\n",
       "    <tr>\n",
       "      <th>marine ecotoxicity</th>\n",
       "      <td>1.644465e-02</td>\n",
       "      <td>1.644465e-02</td>\n",
       "      <td>1.587831e-02</td>\n",
       "      <td>1.644465e-02</td>\n",
       "      <td>-8.439090e-16</td>\n",
       "      <td>-0.034439</td>\n",
       "      <td>0.000000e+00</td>\n",
       "    </tr>\n",
       "    <tr>\n",
       "      <th>marine eutrophication</th>\n",
       "      <td>1.485405e-04</td>\n",
       "      <td>1.485405e-04</td>\n",
       "      <td>1.451630e-04</td>\n",
       "      <td>1.485405e-04</td>\n",
       "      <td>3.649517e-16</td>\n",
       "      <td>-0.022738</td>\n",
       "      <td>0.000000e+00</td>\n",
       "    </tr>\n",
       "    <tr>\n",
       "      <th>metal depletion</th>\n",
       "      <td>2.592706e-02</td>\n",
       "      <td>2.592706e-02</td>\n",
       "      <td>1.812883e-02</td>\n",
       "      <td>2.592706e-02</td>\n",
       "      <td>0.000000e+00</td>\n",
       "      <td>-0.300775</td>\n",
       "      <td>-2.676314e-16</td>\n",
       "    </tr>\n",
       "    <tr>\n",
       "      <th>natural land transformation</th>\n",
       "      <td>-2.348675e-05</td>\n",
       "      <td>-2.348675e-05</td>\n",
       "      <td>-2.154457e-05</td>\n",
       "      <td>-2.348675e-05</td>\n",
       "      <td>-5.770286e-16</td>\n",
       "      <td>-0.082692</td>\n",
       "      <td>-0.000000e+00</td>\n",
       "    </tr>\n",
       "    <tr>\n",
       "      <th>ozone depletion</th>\n",
       "      <td>4.335034e-08</td>\n",
       "      <td>4.335034e-08</td>\n",
       "      <td>4.285225e-08</td>\n",
       "      <td>4.335034e-08</td>\n",
       "      <td>2.289755e-15</td>\n",
       "      <td>-0.011490</td>\n",
       "      <td>0.000000e+00</td>\n",
       "    </tr>\n",
       "    <tr>\n",
       "      <th>particulate matter formation</th>\n",
       "      <td>4.543144e-04</td>\n",
       "      <td>4.543144e-04</td>\n",
       "      <td>4.172340e-04</td>\n",
       "      <td>4.543144e-04</td>\n",
       "      <td>-1.193229e-16</td>\n",
       "      <td>-0.081618</td>\n",
       "      <td>0.000000e+00</td>\n",
       "    </tr>\n",
       "    <tr>\n",
       "      <th>photochemical oxidant formation</th>\n",
       "      <td>1.173786e-03</td>\n",
       "      <td>1.173786e-03</td>\n",
       "      <td>1.108684e-03</td>\n",
       "      <td>1.173786e-03</td>\n",
       "      <td>0.000000e+00</td>\n",
       "      <td>-0.055463</td>\n",
       "      <td>0.000000e+00</td>\n",
       "    </tr>\n",
       "    <tr>\n",
       "      <th>terrestrial acidification</th>\n",
       "      <td>9.586874e-04</td>\n",
       "      <td>9.586874e-04</td>\n",
       "      <td>9.208603e-04</td>\n",
       "      <td>9.586874e-04</td>\n",
       "      <td>2.261847e-16</td>\n",
       "      <td>-0.039457</td>\n",
       "      <td>0.000000e+00</td>\n",
       "    </tr>\n",
       "    <tr>\n",
       "      <th>terrestrial ecotoxicity</th>\n",
       "      <td>4.568736e-04</td>\n",
       "      <td>4.568736e-04</td>\n",
       "      <td>4.529205e-04</td>\n",
       "      <td>4.568736e-04</td>\n",
       "      <td>5.932725e-16</td>\n",
       "      <td>-0.008652</td>\n",
       "      <td>0.000000e+00</td>\n",
       "    </tr>\n",
       "    <tr>\n",
       "      <th>urban land occupation</th>\n",
       "      <td>8.957213e-03</td>\n",
       "      <td>8.957213e-03</td>\n",
       "      <td>8.689063e-03</td>\n",
       "      <td>8.957213e-03</td>\n",
       "      <td>1.936678e-16</td>\n",
       "      <td>-0.029937</td>\n",
       "      <td>0.000000e+00</td>\n",
       "    </tr>\n",
       "    <tr>\n",
       "      <th>water depletion</th>\n",
       "      <td>2.201038e-03</td>\n",
       "      <td>2.201038e-03</td>\n",
       "      <td>2.041501e-03</td>\n",
       "      <td>2.201038e-03</td>\n",
       "      <td>1.970347e-16</td>\n",
       "      <td>-0.072483</td>\n",
       "      <td>0.000000e+00</td>\n",
       "    </tr>\n",
       "  </tbody>\n",
       "</table>\n",
       "</div>"
      ],
      "text/plain": [
       "                                         full    approach A    approach B  \\\n",
       "agricultural land occupation     2.635569e-02  2.635569e-02  2.594711e-02   \n",
       "climate change                   2.775889e-01  2.775889e-01  2.647168e-01   \n",
       "fossil depletion                 9.616501e-02  9.616501e-02  9.270444e-02   \n",
       "freshwater ecotoxicity           1.890489e-02  1.890489e-02  1.833517e-02   \n",
       "freshwater eutrophication        3.496055e-05  3.496055e-05  2.901637e-05   \n",
       "human toxicity                   7.877962e-02  7.877962e-02  7.272617e-02   \n",
       "ionising radiation               2.385098e-02  2.385098e-02  2.295914e-02   \n",
       "marine ecotoxicity               1.644465e-02  1.644465e-02  1.587831e-02   \n",
       "marine eutrophication            1.485405e-04  1.485405e-04  1.451630e-04   \n",
       "metal depletion                  2.592706e-02  2.592706e-02  1.812883e-02   \n",
       "natural land transformation     -2.348675e-05 -2.348675e-05 -2.154457e-05   \n",
       "ozone depletion                  4.335034e-08  4.335034e-08  4.285225e-08   \n",
       "particulate matter formation     4.543144e-04  4.543144e-04  4.172340e-04   \n",
       "photochemical oxidant formation  1.173786e-03  1.173786e-03  1.108684e-03   \n",
       "terrestrial acidification        9.586874e-04  9.586874e-04  9.208603e-04   \n",
       "terrestrial ecotoxicity          4.568736e-04  4.568736e-04  4.529205e-04   \n",
       "urban land occupation            8.957213e-03  8.957213e-03  8.689063e-03   \n",
       "water depletion                  2.201038e-03  2.201038e-03  2.041501e-03   \n",
       "\n",
       "                                   approach C    rel diff A  rel diff B  \\\n",
       "agricultural land occupation     2.635569e-02  3.949182e-16   -0.015502   \n",
       "climate change                   2.775889e-01  0.000000e+00   -0.046371   \n",
       "fossil depletion                 9.616501e-02  1.587435e-15   -0.035986   \n",
       "freshwater ecotoxicity           1.890489e-02 -3.670423e-16   -0.030136   \n",
       "freshwater eutrophication        3.496055e-05 -5.814780e-16   -0.170025   \n",
       "human toxicity                   7.877962e-02 -1.761596e-16   -0.076840   \n",
       "ionising radiation               2.385098e-02  1.454635e-16   -0.037392   \n",
       "marine ecotoxicity               1.644465e-02 -8.439090e-16   -0.034439   \n",
       "marine eutrophication            1.485405e-04  3.649517e-16   -0.022738   \n",
       "metal depletion                  2.592706e-02  0.000000e+00   -0.300775   \n",
       "natural land transformation     -2.348675e-05 -5.770286e-16   -0.082692   \n",
       "ozone depletion                  4.335034e-08  2.289755e-15   -0.011490   \n",
       "particulate matter formation     4.543144e-04 -1.193229e-16   -0.081618   \n",
       "photochemical oxidant formation  1.173786e-03  0.000000e+00   -0.055463   \n",
       "terrestrial acidification        9.586874e-04  2.261847e-16   -0.039457   \n",
       "terrestrial ecotoxicity          4.568736e-04  5.932725e-16   -0.008652   \n",
       "urban land occupation            8.957213e-03  1.936678e-16   -0.029937   \n",
       "water depletion                  2.201038e-03  1.970347e-16   -0.072483   \n",
       "\n",
       "                                   rel diff C  \n",
       "agricultural land occupation     0.000000e+00  \n",
       "climate change                   0.000000e+00  \n",
       "fossil depletion                 0.000000e+00  \n",
       "freshwater ecotoxicity           0.000000e+00  \n",
       "freshwater eutrophication        0.000000e+00  \n",
       "human toxicity                   0.000000e+00  \n",
       "ionising radiation               0.000000e+00  \n",
       "marine ecotoxicity               0.000000e+00  \n",
       "marine eutrophication            0.000000e+00  \n",
       "metal depletion                 -2.676314e-16  \n",
       "natural land transformation     -0.000000e+00  \n",
       "ozone depletion                  0.000000e+00  \n",
       "particulate matter formation     0.000000e+00  \n",
       "photochemical oxidant formation  0.000000e+00  \n",
       "terrestrial acidification        0.000000e+00  \n",
       "terrestrial ecotoxicity          0.000000e+00  \n",
       "urban land occupation            0.000000e+00  \n",
       "water depletion                  0.000000e+00  "
      ]
     },
     "execution_count": 67,
     "metadata": {},
     "output_type": "execute_result"
    }
   ],
   "source": [
    "df[\"rel diff A\"] = (df[\"approach A\"] - df[\"full\"]) / df[\"full\"]\n",
    "df[\"rel diff B\"] = (df[\"approach B\"] - df[\"full\"]) / df[\"full\"]\n",
    "df[\"rel diff C\"] = (df[\"approach C\"] - df[\"full\"]) / df[\"full\"]\n",
    "df"
   ]
  },
  {
   "cell_type": "code",
   "execution_count": 68,
   "metadata": {},
   "outputs": [
    {
     "data": {
      "image/png": "[encoded data removed]",
      "text/plain": [
       "<Figure size 640x480 with 1 Axes>"
      ]
     },
     "metadata": {},
     "output_type": "display_data"
    }
   ],
   "source": [
    "ax = df.plot.bar(y=[\"rel diff A\", \"rel diff B\", \"rel diff C\"])\n",
    "plt.tight_layout()\n",
    "ax.figure.savefig(\"rel differences.png\")"
   ]
  },
  {
   "cell_type": "code",
   "execution_count": null,
   "metadata": {},
   "outputs": [],
   "source": []
  }
 ],
 "metadata": {
  "kernelspec": {
   "display_name": "bw2",
   "language": "python",
   "name": "python3"
  },
  "language_info": {
   "codemirror_mode": {
    "name": "ipython",
    "version": 3
   },
   "file_extension": ".py",
   "mimetype": "text/x-python",
   "name": "python",
   "nbconvert_exporter": "python",
   "pygments_lexer": "ipython3",
   "version": "3.10.6"
  },
  "orig_nbformat": 4,
  "vscode": {
   "interpreter": {
    "hash": "5c712e3f00aa09667e2cd544296ceddc00156777a57a20c5be9b38899f4682b5"
   }
  }
 },
 "nbformat": 4,
 "nbformat_minor": 2
}
