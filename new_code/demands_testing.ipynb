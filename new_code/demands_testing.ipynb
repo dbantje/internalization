{
 "cells": [
  {
   "cell_type": "code",
   "execution_count": 13,
   "metadata": {},
   "outputs": [],
   "source": [
    "import brightway2 as bw\n",
    "import numpy as np"
   ]
  },
  {
   "cell_type": "code",
   "execution_count": 3,
   "metadata": {},
   "outputs": [
    {
     "data": {
      "text/plain": [
       "Databases dictionary with 6 object(s):\n",
       "\tbiosphere3\n",
       "\tecoinvent 3.7.1 cutoff\n",
       "\tecoinvent_remind_default_2020\n",
       "\tecoinvent_remind_default_2030\n",
       "\tecoinvent_remind_default_2040\n",
       "\tecoinvent_remind_default_2050"
      ]
     },
     "execution_count": 3,
     "metadata": {},
     "output_type": "execute_result"
    }
   ],
   "source": [
    "bw.projects.set_current(\"test\")\n",
    "bw.databases"
   ]
  },
  {
   "cell_type": "code",
   "execution_count": 4,
   "metadata": {},
   "outputs": [],
   "source": [
    "db = bw.Database(\"ecoinvent 3.7.1 cutoff\")\n",
    "act = db.random()"
   ]
  },
  {
   "cell_type": "code",
   "execution_count": 5,
   "metadata": {},
   "outputs": [],
   "source": [
    "lca = bw.LCA({act: 1})"
   ]
  },
  {
   "cell_type": "code",
   "execution_count": 6,
   "metadata": {},
   "outputs": [
    {
     "data": {
      "text/plain": [
       "Methods dictionary with 975 objects, including:\n",
       "\t('CML 2001 (superseded)', 'acidification potential', 'average European')\n",
       "\t('CML 2001 (superseded)', 'acidification potential', 'generic')\n",
       "\t('CML 2001 (superseded)', 'climate change', 'GWP 100a')\n",
       "\t('CML 2001 (superseded)', 'climate change', 'GWP 20a')\n",
       "\t('CML 2001 (superseded)', 'climate change', 'GWP 500a')\n",
       "\t('CML 2001 (superseded)', 'climate change', 'lower limit of net GWP')\n",
       "\t('CML 2001 (superseded)', 'climate change', 'upper limit of net GWP')\n",
       "\t('CML 2001 (superseded)', 'eutrophication potential', 'average European')\n",
       "\t('CML 2001 (superseded)', 'eutrophication potential', 'generic')\n",
       "\t('CML 2001 (superseded)', 'freshwater aquatic ecotoxicity', 'FAETP 100a')\n",
       "Use `list(this object)` to get the complete list."
      ]
     },
     "execution_count": 6,
     "metadata": {},
     "output_type": "execute_result"
    }
   ],
   "source": [
    "bw.methods"
   ]
  },
  {
   "cell_type": "code",
   "execution_count": 7,
   "metadata": {},
   "outputs": [
    {
     "name": "stdout",
     "output_type": "stream",
     "text": [
      "('IPCC 2013 no LT', 'climate change', 'GTP 100a')\n",
      "('IPCC 2013 no LT', 'climate change', 'GTP 20a')\n",
      "('IPCC 2013 no LT', 'climate change', 'GWP 100a')\n",
      "('IPCC 2013 no LT', 'climate change', 'GWP 20a')\n",
      "('IPCC 2013', 'climate change', 'GTP 100a')\n",
      "('IPCC 2013', 'climate change', 'GTP 20a')\n",
      "('IPCC 2013', 'climate change', 'GWP 100a')\n",
      "('IPCC 2013', 'climate change', 'GWP 20a')\n"
     ]
    }
   ],
   "source": [
    "for m in bw.methods:\n",
    "    if \"IPCC 2013\" in m[0]:\n",
    "        print(m)"
   ]
  },
  {
   "cell_type": "code",
   "execution_count": 8,
   "metadata": {},
   "outputs": [],
   "source": [
    "m = ('IPCC 2013', 'climate change', 'GWP 100a')"
   ]
  },
  {
   "cell_type": "code",
   "execution_count": 9,
   "metadata": {},
   "outputs": [
    {
     "data": {
      "text/plain": [
       "True"
      ]
     },
     "execution_count": 9,
     "metadata": {},
     "output_type": "execute_result"
    }
   ],
   "source": [
    "m in bw.methods"
   ]
  },
  {
   "cell_type": "code",
   "execution_count": 12,
   "metadata": {},
   "outputs": [
    {
     "data": {
      "text/plain": [
       "array([0., 0., 0., ..., 0., 0., 0.])"
      ]
     },
     "execution_count": 12,
     "metadata": {},
     "output_type": "execute_result"
    }
   ],
   "source": [
    "lca.lci()\n",
    "lca.demand_array"
   ]
  },
  {
   "cell_type": "code",
   "execution_count": 14,
   "metadata": {},
   "outputs": [
    {
     "data": {
      "text/plain": [
       "1.0"
      ]
     },
     "execution_count": 14,
     "metadata": {},
     "output_type": "execute_result"
    }
   ],
   "source": [
    "np.sum(lca.demand_array)"
   ]
  },
  {
   "cell_type": "code",
   "execution_count": 31,
   "metadata": {},
   "outputs": [
    {
     "data": {
      "text/plain": [
       "19128"
      ]
     },
     "execution_count": 31,
     "metadata": {},
     "output_type": "execute_result"
    }
   ],
   "source": [
    "lca.supply_array.size"
   ]
  },
  {
   "cell_type": "code",
   "execution_count": 20,
   "metadata": {},
   "outputs": [
    {
     "data": {
      "text/plain": [
       "17010"
      ]
     },
     "execution_count": 20,
     "metadata": {},
     "output_type": "execute_result"
    }
   ],
   "source": [
    "lca.product_dict[act.key]"
   ]
  },
  {
   "cell_type": "code",
   "execution_count": 21,
   "metadata": {},
   "outputs": [
    {
     "data": {
      "text/plain": [
       "1.0"
      ]
     },
     "execution_count": 21,
     "metadata": {},
     "output_type": "execute_result"
    }
   ],
   "source": [
    "lca.demand_array[lca.product_dict[act.key]]"
   ]
  },
  {
   "cell_type": "code",
   "execution_count": 26,
   "metadata": {},
   "outputs": [
    {
     "data": {
      "text/plain": [
       "'market for aluminium, primary, liquid' (kilogram, GLO, None)"
      ]
     },
     "execution_count": 26,
     "metadata": {},
     "output_type": "execute_result"
    }
   ],
   "source": [
    "db.get(act['code'])"
   ]
  },
  {
   "cell_type": "code",
   "execution_count": 28,
   "metadata": {},
   "outputs": [
    {
     "data": {
      "text/plain": [
       "19128"
      ]
     },
     "execution_count": 28,
     "metadata": {},
     "output_type": "execute_result"
    }
   ],
   "source": [
    "lca.demand_array.size"
   ]
  },
  {
   "cell_type": "code",
   "execution_count": 29,
   "metadata": {},
   "outputs": [
    {
     "data": {
      "text/plain": [
       "19128"
      ]
     },
     "execution_count": 29,
     "metadata": {},
     "output_type": "execute_result"
    }
   ],
   "source": [
    "len(db)"
   ]
  },
  {
   "cell_type": "code",
   "execution_count": 30,
   "metadata": {},
   "outputs": [
    {
     "data": {
      "text/plain": [
       "(19128, 19128)"
      ]
     },
     "execution_count": 30,
     "metadata": {},
     "output_type": "execute_result"
    }
   ],
   "source": [
    "lca.technosphere_matrix.shape"
   ]
  },
  {
   "attachments": {},
   "cell_type": "markdown",
   "metadata": {},
   "source": [
    "NOTE: Ecoinvent seems to make a square technosphere matrix that has the dimensions [process x process]."
   ]
  },
  {
   "cell_type": "markdown",
   "metadata": {},
   "source": []
  }
 ],
 "metadata": {
  "kernelspec": {
   "display_name": "bw2",
   "language": "python",
   "name": "python3"
  },
  "language_info": {
   "codemirror_mode": {
    "name": "ipython",
    "version": 3
   },
   "file_extension": ".py",
   "mimetype": "text/x-python",
   "name": "python",
   "nbconvert_exporter": "python",
   "pygments_lexer": "ipython3",
   "version": "3.10.6 | packaged by conda-forge | (main, Aug 22 2022, 20:30:19) [MSC v.1929 64 bit (AMD64)]"
  },
  "orig_nbformat": 4,
  "vscode": {
   "interpreter": {
    "hash": "5c712e3f00aa09667e2cd544296ceddc00156777a57a20c5be9b38899f4682b5"
   }
  }
 },
 "nbformat": 4,
 "nbformat_minor": 2
}
