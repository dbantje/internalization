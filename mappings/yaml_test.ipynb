{
 "cells": [
  {
   "cell_type": "code",
   "execution_count": 1,
   "metadata": {},
   "outputs": [],
   "source": [
    "import yaml"
   ]
  },
  {
   "cell_type": "code",
   "execution_count": 2,
   "metadata": {},
   "outputs": [],
   "source": [
    "testdict = {\n",
    "    \"pc\": {\n",
    "        \"Hard coal, burned in power plant/PC, no CCS\": 0.5,\n",
    "        \"Lignite, burned in power plant/PC, no CCS\": 0.5\n",
    "    },\n",
    "    \"wind\": {\n",
    "        \"electricity production, wind, 1-3MW turbine, onshore\": 0.3,\n",
    "        \"electricity production, wind, <1MW turbine, onshore\": 0.4,\n",
    "        \"electricity production, wind, >3MW turbine, onshore\": 0.3\n",
    "    }\n",
    "}"
   ]
  },
  {
   "cell_type": "code",
   "execution_count": 4,
   "metadata": {},
   "outputs": [],
   "source": [
    "stream = open(\"test.yaml\", \"w\")\n",
    "yaml.dump(testdict, stream)"
   ]
  },
  {
   "cell_type": "code",
   "execution_count": null,
   "metadata": {},
   "outputs": [],
   "source": []
  }
 ],
 "metadata": {
  "kernelspec": {
   "display_name": "bw2",
   "language": "python",
   "name": "python3"
  },
  "language_info": {
   "codemirror_mode": {
    "name": "ipython",
    "version": 3
   },
   "file_extension": ".py",
   "mimetype": "text/x-python",
   "name": "python",
   "nbconvert_exporter": "python",
   "pygments_lexer": "ipython3",
   "version": "3.10.6"
  },
  "orig_nbformat": 4,
  "vscode": {
   "interpreter": {
    "hash": "5c712e3f00aa09667e2cd544296ceddc00156777a57a20c5be9b38899f4682b5"
   }
  }
 },
 "nbformat": 4,
 "nbformat_minor": 2
}
