{
 "cells": [
  {
   "cell_type": "code",
   "execution_count": 1,
   "metadata": {},
   "outputs": [],
   "source": [
    "import numpy as np\n",
    "import brightway2 as bw\n",
    "from premise.geomap import Geomap"
   ]
  },
  {
   "cell_type": "code",
   "execution_count": 10,
   "metadata": {},
   "outputs": [],
   "source": [
    "geomap = Geomap(\"remind\")\n",
    "\n",
    "remind_regions = [\n",
    "    \"CAZ\",\n",
    "    \"CHA\",\n",
    "    \"EUR\",\n",
    "    \"IND\",\n",
    "    \"JPN\",\n",
    "    \"LAM\",\n",
    "    \"MEA\",\n",
    "    \"NEU\",\n",
    "    \"OAS\",\n",
    "    \"REF\",\n",
    "    \"SSA\",\n",
    "    \"USA\"\n",
    "]"
   ]
  },
  {
   "attachments": {},
   "cell_type": "markdown",
   "metadata": {},
   "source": [
    "## Example: Geothermal heat"
   ]
  },
  {
   "cell_type": "code",
   "execution_count": 5,
   "metadata": {},
   "outputs": [],
   "source": [
    "bw.projects.set_current(\"test\")\n",
    "ei = bw.Database(\"ecoinvent_remind_default_2030\")"
   ]
  },
  {
   "cell_type": "code",
   "execution_count": 6,
   "metadata": {},
   "outputs": [],
   "source": [
    "geohdr = \"electricity production, deep geothermal\"\n",
    "activities = [act for act in ei if geohdr in act[\"name\"]]"
   ]
  },
  {
   "cell_type": "code",
   "execution_count": 11,
   "metadata": {},
   "outputs": [
    {
     "data": {
      "text/plain": [
       "{'CAZ': ['electricity production, deep geothermal' (kilowatt hour, NZ, None)],\n",
       " 'CHA': ['electricity production, deep geothermal' (kilowatt hour, CN-SH, None),\n",
       "  'electricity production, deep geothermal' (kilowatt hour, CN-GD, None)],\n",
       " 'EUR': ['electricity production, deep geothermal' (kilowatt hour, LT, None),\n",
       "  'electricity production, deep geothermal' (kilowatt hour, FR, None),\n",
       "  'electricity production, deep geothermal' (kilowatt hour, LV, None),\n",
       "  'electricity production, deep geothermal' (kilowatt hour, PT, None),\n",
       "  'electricity production, deep geothermal' (kilowatt hour, IT, None),\n",
       "  'electricity production, deep geothermal' (kilowatt hour, HU, None),\n",
       "  'electricity production, deep geothermal' (kilowatt hour, PL, None),\n",
       "  'electricity production, deep geothermal' (kilowatt hour, DE, None),\n",
       "  'electricity production, deep geothermal' (kilowatt hour, GB, None),\n",
       "  'electricity production, deep geothermal' (kilowatt hour, AT, None),\n",
       "  'electricity production, deep geothermal' (kilowatt hour, CZ, None)],\n",
       " 'IND': ['electricity production, deep geothermal' (kilowatt hour, IN-TN, None)],\n",
       " 'JPN': ['electricity production, deep geothermal' (kilowatt hour, JP, None)],\n",
       " 'LAM': ['electricity production, deep geothermal' (kilowatt hour, MX, None),\n",
       "  'electricity production, deep geothermal' (kilowatt hour, CL, None),\n",
       "  'electricity production, deep geothermal' (kilowatt hour, SV, None),\n",
       "  'electricity production, deep geothermal' (kilowatt hour, NI, None),\n",
       "  'electricity production, deep geothermal' (kilowatt hour, CR, None)],\n",
       " 'MEA': ['electricity production, deep geothermal' (kilowatt hour, TR, None)],\n",
       " 'NEU': ['electricity production, deep geothermal' (kilowatt hour, IS, None),\n",
       "  'electricity production, deep geothermal' (kilowatt hour, CH, None)],\n",
       " 'OAS': ['electricity production, deep geothermal' (kilowatt hour, PH, None),\n",
       "  'electricity production, deep geothermal' (kilowatt hour, ID, None),\n",
       "  'electricity production, deep geothermal' (kilowatt hour, TH, None)],\n",
       " 'REF': ['electricity production, deep geothermal' (kilowatt hour, RU, None)],\n",
       " 'SSA': ['electricity production, deep geothermal' (kilowatt hour, ZA, None),\n",
       "  'electricity production, deep geothermal' (kilowatt hour, KE, None)],\n",
       " 'USA': ['electricity production, deep geothermal' (kilowatt hour, US-HICC, None),\n",
       "  'electricity production, deep geothermal' (kilowatt hour, US-SERC, None),\n",
       "  'electricity production, deep geothermal' (kilowatt hour, US-WECC, None)]}"
      ]
     },
     "execution_count": 11,
     "metadata": {},
     "output_type": "execute_result"
    }
   ],
   "source": [
    "act_dict = {}\n",
    "for regi in remind_regions:\n",
    "    ei_regions = geomap.iam_to_ecoinvent_location(regi)\n",
    "    act_in_regi = []\n",
    "    for act in activities:\n",
    "        if act[\"location\"] in ei_regions:\n",
    "            act_in_regi.append(act)\n",
    "    act_dict[regi] = act_in_regi\n",
    "    \n",
    "act_dict"
   ]
  },
  {
   "cell_type": "code",
   "execution_count": 12,
   "metadata": {},
   "outputs": [],
   "source": [
    "def get_demands(act_dict, weighting=\"uniform\"):\n",
    "    demand_dict = {}\n",
    "    if weighting == \"uniform\":\n",
    "        for regi, activities in act_dict.items():\n",
    "            N = len(activities)\n",
    "            demand = {act: 1/N for act in activities}\n",
    "            demand_dict[regi] = demand\n",
    "    \n",
    "    return demand_dict\n"
   ]
  },
  {
   "cell_type": "code",
   "execution_count": 13,
   "metadata": {},
   "outputs": [
    {
     "data": {
      "text/plain": [
       "{'CAZ': {'electricity production, deep geothermal' (kilowatt hour, NZ, None): 1.0},\n",
       " 'CHA': {'electricity production, deep geothermal' (kilowatt hour, CN-SH, None): 0.5,\n",
       "  'electricity production, deep geothermal' (kilowatt hour, CN-GD, None): 0.5},\n",
       " 'EUR': {'electricity production, deep geothermal' (kilowatt hour, LT, None): 0.09090909090909091,\n",
       "  'electricity production, deep geothermal' (kilowatt hour, FR, None): 0.09090909090909091,\n",
       "  'electricity production, deep geothermal' (kilowatt hour, LV, None): 0.09090909090909091,\n",
       "  'electricity production, deep geothermal' (kilowatt hour, PT, None): 0.09090909090909091,\n",
       "  'electricity production, deep geothermal' (kilowatt hour, IT, None): 0.09090909090909091,\n",
       "  'electricity production, deep geothermal' (kilowatt hour, HU, None): 0.09090909090909091,\n",
       "  'electricity production, deep geothermal' (kilowatt hour, PL, None): 0.09090909090909091,\n",
       "  'electricity production, deep geothermal' (kilowatt hour, DE, None): 0.09090909090909091,\n",
       "  'electricity production, deep geothermal' (kilowatt hour, GB, None): 0.09090909090909091,\n",
       "  'electricity production, deep geothermal' (kilowatt hour, AT, None): 0.09090909090909091,\n",
       "  'electricity production, deep geothermal' (kilowatt hour, CZ, None): 0.09090909090909091},\n",
       " 'IND': {'electricity production, deep geothermal' (kilowatt hour, IN-TN, None): 1.0},\n",
       " 'JPN': {'electricity production, deep geothermal' (kilowatt hour, JP, None): 1.0},\n",
       " 'LAM': {'electricity production, deep geothermal' (kilowatt hour, MX, None): 0.2,\n",
       "  'electricity production, deep geothermal' (kilowatt hour, CL, None): 0.2,\n",
       "  'electricity production, deep geothermal' (kilowatt hour, SV, None): 0.2,\n",
       "  'electricity production, deep geothermal' (kilowatt hour, NI, None): 0.2,\n",
       "  'electricity production, deep geothermal' (kilowatt hour, CR, None): 0.2},\n",
       " 'MEA': {'electricity production, deep geothermal' (kilowatt hour, TR, None): 1.0},\n",
       " 'NEU': {'electricity production, deep geothermal' (kilowatt hour, IS, None): 0.5,\n",
       "  'electricity production, deep geothermal' (kilowatt hour, CH, None): 0.5},\n",
       " 'OAS': {'electricity production, deep geothermal' (kilowatt hour, PH, None): 0.3333333333333333,\n",
       "  'electricity production, deep geothermal' (kilowatt hour, ID, None): 0.3333333333333333,\n",
       "  'electricity production, deep geothermal' (kilowatt hour, TH, None): 0.3333333333333333},\n",
       " 'REF': {'electricity production, deep geothermal' (kilowatt hour, RU, None): 1.0},\n",
       " 'SSA': {'electricity production, deep geothermal' (kilowatt hour, ZA, None): 0.5,\n",
       "  'electricity production, deep geothermal' (kilowatt hour, KE, None): 0.5},\n",
       " 'USA': {'electricity production, deep geothermal' (kilowatt hour, US-HICC, None): 0.3333333333333333,\n",
       "  'electricity production, deep geothermal' (kilowatt hour, US-SERC, None): 0.3333333333333333,\n",
       "  'electricity production, deep geothermal' (kilowatt hour, US-WECC, None): 0.3333333333333333}}"
      ]
     },
     "execution_count": 13,
     "metadata": {},
     "output_type": "execute_result"
    }
   ],
   "source": [
    "get_demands(act_dict)"
   ]
  },
  {
   "cell_type": "code",
   "execution_count": null,
   "metadata": {},
   "outputs": [],
   "source": []
  }
 ],
 "metadata": {
  "kernelspec": {
   "display_name": "bw2",
   "language": "python",
   "name": "python3"
  },
  "language_info": {
   "codemirror_mode": {
    "name": "ipython",
    "version": 3
   },
   "file_extension": ".py",
   "mimetype": "text/x-python",
   "name": "python",
   "nbconvert_exporter": "python",
   "pygments_lexer": "ipython3",
   "version": "3.10.6 | packaged by conda-forge | (main, Aug 22 2022, 20:30:19) [MSC v.1929 64 bit (AMD64)]"
  },
  "orig_nbformat": 4,
  "vscode": {
   "interpreter": {
    "hash": "5c712e3f00aa09667e2cd544296ceddc00156777a57a20c5be9b38899f4682b5"
   }
  }
 },
 "nbformat": 4,
 "nbformat_minor": 2
}
